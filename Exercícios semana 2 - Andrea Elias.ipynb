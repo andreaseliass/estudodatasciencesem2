{
 "cells": [
  {
   "cell_type": "markdown",
   "id": "12062be8",
   "metadata": {},
   "source": [
    "Exercícios da Semana 2: ANDREA SAMPAIO ELIAS\n",
    "\n",
    "(PARTE 1) Vamos entender as estruturas dos dados em Python:\n",
    "\n",
    "1) Qual a diferença entre uma variável tipo int e uma tipo float?\n",
    "\n",
    "Resp: O int representa uma variável de valor inteiro (positivo ou negativo), já o\n",
    "float representa uma variável de valor real. Ou seja, a diferença entre eles\n",
    "é a precisão.\n",
    "\n",
    "\n",
    "2) O que é uma variável do tipo string?\n",
    "\n",
    "Resp: Strings são cadeias de caracteres, armazenam dados textuais, ou seja,\n",
    "letras, palavras ou frases.\n",
    "\n",
    "\n",
    "(PARTE 2) Condicionais, Loops, Funções:\n",
    "\n",
    "3) Crie uma função que encontre o maior valor entre 3 números\n",
    "imputados pelo usuário."
   ]
  },
  {
   "cell_type": "code",
   "execution_count": 3,
   "id": "1017b669",
   "metadata": {},
   "outputs": [
    {
     "name": "stdout",
     "output_type": "stream",
     "text": [
      "\n",
      "O maior valor é 3\n"
     ]
    }
   ],
   "source": [
    "#Questão 03\n",
    "a=input('Digite o primeiro valor: ')\n",
    "b=input('Digite o segundo valor: ')\n",
    "c=input('Digite o terceiro valor: ')\n",
    "y=0\n",
    "\n",
    "if a > b:\n",
    "    if a > c:\n",
    "        x=a;\n",
    "    elif c > a:\n",
    "        x=c;\n",
    "elif b < a:\n",
    "    if b > c:\n",
    "        x=b;\n",
    "    elif c > b:\n",
    "        x=c;\n",
    "else:\n",
    "    if b > c:\n",
    "        x=b;\n",
    "    elif c > b:\n",
    "        x=c;\n",
    "    else:\n",
    "        print('\\nOs três valores são iguais')\n",
    "        y=1\n",
    "    \n",
    "if y ==0:\n",
    "    print('\\nO maior valor é', x)\n"
   ]
  },
  {
   "cell_type": "markdown",
   "id": "4b399b8d",
   "metadata": {},
   "source": [
    "4) Crie uma função que identifique se duas palavras inseridas pelo\n",
    "usuário são anagramas."
   ]
  },
  {
   "cell_type": "code",
   "execution_count": 2,
   "id": "37d462ac",
   "metadata": {},
   "outputs": [
    {
     "name": "stdout",
     "output_type": "stream",
     "text": [
      "Digite a primeira palavra: KAK\n",
      "Digite a segunda palavra: AS\n",
      "\n",
      "As palavras não são anagramas.\n"
     ]
    }
   ],
   "source": [
    "#Questão 4\n",
    "word1 = input('Digite a primeira palavra: ')\n",
    "word2 = input('Digite a segunda palavra: ')\n",
    "tamanho =len(word2)\n",
    "invertida=word2[tamanho::-1] \n",
    "\n",
    "if word1 ==invertida:\n",
    "    print('\\nAs palavras são anagramas.');\n",
    "else:\n",
    "    print('\\nAs palavras não são anagramas.');"
   ]
  },
  {
   "cell_type": "markdown",
   "id": "58efd758",
   "metadata": {},
   "source": [
    "5) Crie uma função que retorne a contagem de consoantes e vogais\n",
    "de uma palavra imputada pelo usuário."
   ]
  },
  {
   "cell_type": "code",
   "execution_count": 4,
   "id": "7926f934",
   "metadata": {},
   "outputs": [
    {
     "name": "stdout",
     "output_type": "stream",
     "text": [
      "\n",
      "A palavra tem 2 vogais 2 consoantes.\n"
     ]
    }
   ],
   "source": [
    "#Questão 5\n",
    "vogal = 0\n",
    "consoante = 0\n",
    "\n",
    "word = input('Digite uma palavra: ')\n",
    "\n",
    "\n",
    "for i in range(len(word)):\n",
    "    letra = word[i]\n",
    "    if (letra=='a' or letra=='e' or letra=='i' or letra=='o' or letra=='u'or letra=='A' or letra=='E' or letra=='I' or letra=='O' or letra=='U'):\n",
    "        vogal = vogal + 1\n",
    "    else:\n",
    "        consoante = consoante + 1\n",
    "if vogal > 1:\n",
    "    v='vogais'\n",
    "else:\n",
    "    v='vogal'\n",
    "\n",
    "if consoante > 1:\n",
    "    c='consoantes'\n",
    "else:\n",
    "    c='consoante'\n",
    "\n",
    "print('\\nA palavra tem', vogal, v, consoante, c+'.')\n",
    "    \n",
    "        "
   ]
  },
  {
   "cell_type": "markdown",
   "id": "ce9d9cf2",
   "metadata": {},
   "source": [
    "6) O que são dicionários em Python?\n",
    "\n",
    "Resp: Os dicionários em python possuem uma chave que remete a um valor. É\n",
    "um tipo de dado que recebe uma chave e um valor. É uma espécie de\n",
    "estrutura de dados do tipo coleção. Se nas listas, os elementos são\n",
    "acessados por meio de uma posição ou índice, nos dicionários isso ocorre\n",
    "de forma diferente.\n",
    "\n",
    "\n",
    "7) Crie uma lista com os 100 mil primeiros números naturais na\n",
    "sequência (i.e., de 1 à 100000). Salve esta lista em um objeto com\n",
    "nome cem_mil_lista. Inicie então uma lista vazia chamada\n",
    "numeros_pares. A partir da lista cem_mil_lista, salve todos os\n",
    "%%valores pares na lista numeros_pares. Resolva este exercício\n",
    "de duas formas: a primeira utilizando um loop com o for e a\n",
    "segunda com list comprehension. Compare o tempo de\n",
    "execução das duas.\n",
    "* Para comparar o tempo de execução, insira na primeira linha da\n",
    "célula %%time.\n",
    "\n",
    "Resp: O tempo de execução usando o list comprehension é menor."
   ]
  },
  {
   "cell_type": "code",
   "execution_count": 4,
   "id": "6f53fdd9",
   "metadata": {},
   "outputs": [
    {
     "name": "stdout",
     "output_type": "stream",
     "text": [
      "CPU times: user 15.6 ms, sys: 15.6 ms, total: 31.2 ms\n",
      "Wall time: 29.9 ms\n"
     ]
    }
   ],
   "source": [
    "%%time\n",
    "#Questão 7\n",
    "#For\n",
    "\n",
    "cem_mil_lista = []\n",
    "\n",
    "for i in range(1,100001):\n",
    "    cem_mil_lista.append(i)\n",
    "    \n",
    "\n",
    "numeros_pares = []\n",
    "\n",
    "for valor in cem_mil_lista:\n",
    "    if valor%2==0:\n",
    "        numeros_pares.append(valor) "
   ]
  },
  {
   "cell_type": "code",
   "execution_count": null,
   "id": "47907d63",
   "metadata": {},
   "outputs": [
    {
     "name": "stdout",
     "output_type": "stream",
     "text": [
      "CPU times: user 15.6 ms, sys: 15.6 ms, total: 31.2 ms\n",
      "Wall time: 23.7 ms\n"
     ]
    }
   ],
   "source": [
    "%%time\n",
    "#Questão 7\n",
    "#List Comprehension\n",
    "\n",
    "cem_mil_lista = []\n",
    "\n",
    "for i in range(1,100001):\n",
    "    cem_mil_lista.append(i)\n",
    "    \n",
    "numeros_pares = [valor for valor in cem_mil_lista if valor%2==0]\n"
   ]
  },
  {
   "cell_type": "markdown",
   "id": "5038b13f",
   "metadata": {},
   "source": [
    "8) Para que serve o argumento Kwargs nas funções?\n",
    "\n",
    "Resp: Para criar um dicionário com os parâmetros passados na função em que\n",
    "os kwargs foram usados. Kwargs significa keyword arguments\n",
    "(argumentos de palavras chave). Ele permite passar um dicionário com\n",
    "inúmeras keys para a função. A convenção é usar dois asteriscos ** antes\n",
    "do nome do kwargs.\n",
    "\n",
    "9) Escreva um programa em Python para encontrar os números que\n",
    "Resp: são divisíveis por 7 e múltiplos de 5, entre 1500 e 2700 (ambos\n",
    "incluídos). Em outras palavras, combine o que você aprendeu de\n",
    "loop e condicional para criar uma lista de valores que atendam às\n",
    "condições exigidas."
   ]
  },
  {
   "cell_type": "code",
   "execution_count": null,
   "id": "1190b8a9",
   "metadata": {},
   "outputs": [],
   "source": [
    "#Questão 9\n",
    "div7_mult5 = []\n",
    "for i in range(1500,2701):\n",
    "    if i%7==0 and i%5==0:\n",
    "        div7_mult5.append(i)"
   ]
  },
  {
   "cell_type": "markdown",
   "id": "51e0caf6",
   "metadata": {},
   "source": [
    "10) Escreva um programa Python para construir o padrão a seguir,\n",
    "usando um número de loop aninhado. Ir para o editor\n",
    "\n",
    "Saída esperada:\n",
    "\n",
    "1\n",
    "\n",
    "22\n",
    "\n",
    "333\n",
    "\n",
    "4444\n",
    "\n",
    "55555\n",
    "\n",
    "666666\n",
    "\n",
    "7777777\n",
    "\n",
    "88888888\n",
    "\n",
    "999999999"
   ]
  },
  {
   "cell_type": "code",
   "execution_count": null,
   "id": "401d58c6",
   "metadata": {},
   "outputs": [
    {
     "name": "stdout",
     "output_type": "stream",
     "text": [
      "Digite um valor: 9\n",
      " \n",
      "\n",
      "1 \n",
      "\n",
      "22 \n",
      "\n",
      "333 \n",
      "\n",
      "4444 \n",
      "\n",
      "55555 \n",
      "\n",
      "666666 \n",
      "\n",
      "7777777 \n",
      "\n",
      "88888888 \n",
      "\n",
      "999999999 \n",
      "\n"
     ]
    }
   ],
   "source": [
    "#Questão 10\n",
    "x = input('Digite um valor: ')\n",
    "\n",
    "for i in range(int(x)+1):\n",
    "    print(i*str(i),'\\n')\n"
   ]
  },
  {
   "cell_type": "markdown",
   "id": "4fd05599",
   "metadata": {},
   "source": [
    "11) Escreva um programa em Python para verificar se um alfabeto\n",
    "é uma vogal ou uma consoante. Ir para o editor\n",
    "\n",
    "Saída esperada:\n",
    "\n",
    "Insira uma letra do alfabeto: m\n",
    "\n",
    "m é uma consoante."
   ]
  },
  {
   "cell_type": "code",
   "execution_count": null,
   "id": "22702124",
   "metadata": {},
   "outputs": [
    {
     "name": "stdout",
     "output_type": "stream",
     "text": [
      "Insira uma letra do alfabeto: a\n",
      "a é uma vogal.\n"
     ]
    }
   ],
   "source": [
    "#Questão 11\n",
    "letter = input('Insira uma letra do alfabeto: ')\n",
    "\n",
    "if (letter=='a' or letter=='e' or letter=='i' or letter=='o' or letter=='u' or letter=='A' or letter=='E' or letter=='I' or letter=='O' or letter=='U'):\n",
    "    print(letter,'é uma vogal.')\n",
    "else:\n",
    "     print(letter, 'é uma consoante.')"
   ]
  },
  {
   "cell_type": "markdown",
   "id": "c01205e3",
   "metadata": {},
   "source": [
    "(PARTE 3) Bibliotecas e Numpy:\n",
    "\n",
    "12) Para que serve o PIP no Python?\n",
    "\n",
    "Resp:O PIP é uma ferramenta para gerenciamento de pacotes de software\n",
    "escrito em Python.\n",
    "Similar ao Composer (Gerenciador de pacotes do PHP), o PIP serve para\n",
    "instalar, remover, atualizar ou listar os pacotes instalados em um\n",
    "determinado projeto.\n",
    "\n",
    "13) Crie um array com 10 números no formato float. Converta-os\n",
    "para o formato inteiro."
   ]
  },
  {
   "cell_type": "code",
   "execution_count": null,
   "id": "84df6740",
   "metadata": {},
   "outputs": [
    {
     "name": "stdout",
     "output_type": "stream",
     "text": [
      "[2.5 3.2 3.3 7.5 8.9 5.3 1.2 9.4 7.3 6.1]\n",
      "[2 3 3 7 8 5 1 9 7 6]\n"
     ]
    }
   ],
   "source": [
    "#Questão 13\n",
    "\n",
    "import numpy as np\n",
    "\n",
    "floats = np.array([2.5, 3.2, 3.3, 7.5, 8.9, 5.3, 1.2, 9.4, 7.3, 6.1])\n",
    "print(floats)\n",
    "inteiros = floats.astype(int)\n",
    "print(inteiros)"
   ]
  },
  {
   "cell_type": "markdown",
   "id": "1c940189",
   "metadata": {},
   "source": [
    "14) Converta o array abaixo para o formato booleano.\n",
    "\n",
    "a = np.array([[1,0,1],[1,1,1],[0,0,0]])"
   ]
  },
  {
   "cell_type": "code",
   "execution_count": null,
   "id": "f6e5cf7f",
   "metadata": {},
   "outputs": [
    {
     "name": "stdout",
     "output_type": "stream",
     "text": [
      "[[ True False  True]\n",
      " [ True  True  True]\n",
      " [False False False]]\n"
     ]
    }
   ],
   "source": [
    "#Questão 14\n",
    "a = np.array([[1,0,1],[1,1,1],[0,0,0]])\n",
    "booleans = a.astype(bool)\n",
    "print(booleans)"
   ]
  },
  {
   "cell_type": "markdown",
   "id": "42e40c51",
   "metadata": {},
   "source": [
    "15) Empilhe horizontalmente os arrays abaixo.\n",
    "\n",
    "a = np.array([[10,20,15],[0,0,20]])\n",
    "\n",
    "b = np.array([[15,7,3],[5,5,8]])\n"
   ]
  },
  {
   "cell_type": "code",
   "execution_count": null,
   "id": "97a87e91",
   "metadata": {},
   "outputs": [
    {
     "name": "stdout",
     "output_type": "stream",
     "text": [
      "[10 20 15  0  0 20]\n",
      "\n",
      " [15  7  3  5  5  8]\n",
      "\n",
      " [10 20 15  0  0 20 15  7  3  5  5  8]\n"
     ]
    }
   ],
   "source": [
    "#Questão 15\n",
    "a = np.array([[10,20,15],[0,0,20]])\n",
    "b = np.array([[15,7,3],[5,5,8]])\n",
    "c = np.concatenate((a,b))\n",
    "\n",
    "h1 = np.hstack(a)\n",
    "print( h1)\n",
    "h2 = np.hstack(b)\n",
    "print('\\n', h2)\n",
    "h3 = np.hstack(c)\n",
    "print('\\n', h3)"
   ]
  },
  {
   "cell_type": "markdown",
   "id": "fca5b33d",
   "metadata": {},
   "source": [
    "16) Empilhe verticalmente os arrays do exercício 15. "
   ]
  },
  {
   "cell_type": "code",
   "execution_count": null,
   "id": "0a287db0",
   "metadata": {},
   "outputs": [
    {
     "name": "stdout",
     "output_type": "stream",
     "text": [
      "[[10 20 15]\n",
      " [ 0  0 20]]\n",
      "\n",
      " [[15  7  3]\n",
      " [ 5  5  8]]\n",
      "\n",
      " [[10 20 15]\n",
      " [ 0  0 20]\n",
      " [15  7  3]\n",
      " [ 5  5  8]]\n"
     ]
    }
   ],
   "source": [
    "#Questão 16\n",
    "a = np.array([[10,20,15],[0,0,20]])\n",
    "b = np.array([[15,7,3],[5,5,8]])\n",
    "c = np.concatenate((a,b))\n",
    "\n",
    "h1 = np.vstack(a)\n",
    "print(h1)\n",
    "h2 = np.vstack(b)\n",
    "print('\\n',h2)\n",
    "h3 = np.vstack(c)\n",
    "print('\\n',h3)"
   ]
  },
  {
   "cell_type": "markdown",
   "id": "26fcb259",
   "metadata": {},
   "source": [
    "17) Gere uma lista de números inteiros que vão de 0 a 100, de 2\n",
    "em 2, e, na sequência, converta essa lista em um array."
   ]
  },
  {
   "cell_type": "code",
   "execution_count": null,
   "id": "bcb4bf07",
   "metadata": {},
   "outputs": [
    {
     "name": "stdout",
     "output_type": "stream",
     "text": [
      "[  0   2   4   6   8  10  12  14  16  18  20  22  24  26  28  30  32  34\n",
      "  36  38  40  42  44  46  48  50  52  54  56  58  60  62  64  66  68  70\n",
      "  72  74  76  78  80  82  84  86  88  90  92  94  96  98 100]\n",
      "[  0   2   4   6   8  10  12  14  16  18  20  22  24  26  28  30  32  34\n",
      "  36  38  40  42  44  46  48  50  52  54  56  58  60  62  64  66  68  70\n",
      "  72  74  76  78  80  82  84  86  88  90  92  94  96  98 100]\n"
     ]
    }
   ],
   "source": [
    "#Questão 17\n",
    "lista = np.arange(101, step = 2)\n",
    "print(lista)\n",
    "arr = np.asarray(lista)\n",
    "print(arr)"
   ]
  },
  {
   "cell_type": "markdown",
   "id": "47109662",
   "metadata": {},
   "source": [
    "18) Gere uma lista de valores que vão de 5 a 10 de 0.5 em 0.5.\n"
   ]
  },
  {
   "cell_type": "code",
   "execution_count": null,
   "id": "fa174b1c",
   "metadata": {},
   "outputs": [
    {
     "name": "stdout",
     "output_type": "stream",
     "text": [
      "[5.  5.5 6.  6.5 7.  7.5 8.  8.5 9.  9.5]\n"
     ]
    }
   ],
   "source": [
    "#Questão 18\n",
    "lista = np.arange(5, 10, 0.5)\n",
    "print(lista)\n"
   ]
  },
  {
   "cell_type": "markdown",
   "id": "2821062c",
   "metadata": {},
   "source": [
    "19) Crie um array 3x3 cujos valores seguem uma distribuição\n",
    "normal.\n"
   ]
  },
  {
   "cell_type": "code",
   "execution_count": null,
   "id": "c5d2660f",
   "metadata": {},
   "outputs": [
    {
     "name": "stdout",
     "output_type": "stream",
     "text": [
      "[[-0.30088852 -0.89195163  1.63397105]\n",
      " [-0.71743139 -1.04363815 -0.02890044]\n",
      " [-0.01806328 -0.17890637  0.05012681]]\n"
     ]
    }
   ],
   "source": [
    "#Questão 19\n",
    "A = np.random.normal(0, 1, (3, 3))\n",
    "print(A)"
   ]
  },
  {
   "cell_type": "markdown",
   "id": "0ac39012",
   "metadata": {},
   "source": [
    "20) Como calcular o determinante de uma matriz no Numpy?\n",
    "\n",
    "Resp: Usando a função np.linalg.det(), como no exemplo:"
   ]
  },
  {
   "cell_type": "code",
   "execution_count": null,
   "id": "3ccd7ffa",
   "metadata": {},
   "outputs": [
    {
     "name": "stdout",
     "output_type": "stream",
     "text": [
      "[[ 2  3  5]\n",
      " [ 6  7  8]\n",
      " [10 11 12]]\n"
     ]
    },
    {
     "data": {
      "text/plain": [
       "-3.999999999999983"
      ]
     },
     "execution_count": 97,
     "metadata": {},
     "output_type": "execute_result"
    }
   ],
   "source": [
    "#Questão 20\n",
    "a = np.array([[2, 3, 5], [6, 7, 8], [10, 11, 12]])\n",
    "print(a)\n",
    "np.linalg.det(a)"
   ]
  },
  {
   "cell_type": "code",
   "execution_count": null,
   "id": "a04dfc2a",
   "metadata": {},
   "outputs": [],
   "source": []
  }
 ],
 "metadata": {
  "kernelspec": {
   "display_name": "Python 3 (ipykernel)",
   "language": "python",
   "name": "python3"
  },
  "language_info": {
   "codemirror_mode": {
    "name": "ipython",
    "version": 3
   },
   "file_extension": ".py",
   "mimetype": "text/x-python",
   "name": "python",
   "nbconvert_exporter": "python",
   "pygments_lexer": "ipython3",
   "version": "3.10.4"
  }
 },
 "nbformat": 4,
 "nbformat_minor": 5
}
